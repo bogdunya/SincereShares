{
 "cells": [
  {
   "cell_type": "markdown",
   "id": "1aab1338",
   "metadata": {},
   "source": [
    "#### установка зависимостей ..."
   ]
  },
  {
   "cell_type": "code",
   "execution_count": 17,
   "id": "62ee49bb",
   "metadata": {
    "tags": []
   },
   "outputs": [
    {
     "name": "stdout",
     "output_type": "stream",
     "text": [
      "Requirement already satisfied: plotly in c:\\users\\bogda\\appdata\\local\\programs\\python\\python311\\lib\\site-packages (5.14.1)\n",
      "Requirement already satisfied: tenacity>=6.2.0 in c:\\users\\bogda\\appdata\\local\\programs\\python\\python311\\lib\\site-packages (from plotly) (8.2.2)\n",
      "Requirement already satisfied: packaging in c:\\users\\bogda\\appdata\\local\\programs\\python\\python311\\lib\\site-packages (from plotly) (23.1)\n",
      "Note: you may need to restart the kernel to use updated packages.\n"
     ]
    }
   ],
   "source": [
    "pip install plotly"
   ]
  },
  {
   "cell_type": "markdown",
   "id": "af1944ba",
   "metadata": {
    "tags": []
   },
   "source": [
    "##### https://pypi.org/project/apimoex/"
   ]
  },
  {
   "cell_type": "code",
   "execution_count": 18,
   "id": "84b547bb",
   "metadata": {
    "tags": []
   },
   "outputs": [
    {
     "name": "stdout",
     "output_type": "stream",
     "text": [
      "Requirement already satisfied: apimoex in c:\\users\\bogda\\appdata\\local\\programs\\python\\python311\\lib\\site-packages (1.3.0)\n",
      "Requirement already satisfied: requests in c:\\users\\bogda\\appdata\\local\\programs\\python\\python311\\lib\\site-packages (from apimoex) (2.30.0)\n",
      "Requirement already satisfied: charset-normalizer<4,>=2 in c:\\users\\bogda\\appdata\\local\\programs\\python\\python311\\lib\\site-packages (from requests->apimoex) (3.1.0)\n",
      "Requirement already satisfied: idna<4,>=2.5 in c:\\users\\bogda\\appdata\\local\\programs\\python\\python311\\lib\\site-packages (from requests->apimoex) (3.4)\n",
      "Requirement already satisfied: urllib3<3,>=1.21.1 in c:\\users\\bogda\\appdata\\local\\programs\\python\\python311\\lib\\site-packages (from requests->apimoex) (2.0.2)\n",
      "Requirement already satisfied: certifi>=2017.4.17 in c:\\users\\bogda\\appdata\\local\\programs\\python\\python311\\lib\\site-packages (from requests->apimoex) (2023.5.7)\n",
      "Note: you may need to restart the kernel to use updated packages.\n"
     ]
    }
   ],
   "source": [
    "pip install apimoex"
   ]
  },
  {
   "cell_type": "code",
   "execution_count": null,
   "id": "effcbf4e",
   "metadata": {},
   "outputs": [],
   "source": []
  },
  {
   "cell_type": "markdown",
   "id": "a77a56a9",
   "metadata": {},
   "source": [
    "### Содержимое файла FinanceCode.py ..."
   ]
  },
  {
   "cell_type": "code",
   "execution_count": 1,
   "id": "2abb06e5",
   "metadata": {
    "tags": []
   },
   "outputs": [],
   "source": [
    "import numpy as np\n",
    "import pandas as pd\n",
    "import requests\n",
    "import plotly.graph_objects as go\n",
    "import plotly.express as px\n",
    "import datetime as dt\n",
    "import os\n",
    "from dateutil.relativedelta import relativedelta"
   ]
  },
  {
   "cell_type": "markdown",
   "id": "5d7b9db1",
   "metadata": {},
   "source": [
    "&bullet; Если что-то не импортируется, попробуйте создать выше ячейку `pip install <что-то>` и выполнить.  \n",
    "&bullet; Затем возвращайтесь сюда, к импортам."
   ]
  },
  {
   "cell_type": "code",
   "execution_count": 2,
   "id": "8fe18381",
   "metadata": {
    "tags": []
   },
   "outputs": [],
   "source": [
    "import apimoex"
   ]
  },
  {
   "cell_type": "code",
   "execution_count": 3,
   "id": "27c92206",
   "metadata": {
    "tags": []
   },
   "outputs": [],
   "source": [
    "import logging"
   ]
  },
  {
   "cell_type": "code",
   "execution_count": 35,
   "id": "de9bc1f3",
   "metadata": {
    "tags": []
   },
   "outputs": [],
   "source": [
    "class MoexAPI:\n",
    "    ISS_URL = 'https://iss.moex.com/iss/'\n",
    "\n",
    "    @staticmethod\n",
    "    def download_history_data(ticker, timeframe, start, end, columns, market='shares', engine='stock'):\n",
    "        with requests.Session() as session:\n",
    "            try:\n",
    "                data = apimoex.get_market_candles(session, ticker, timeframe, start, end,\n",
    "                                                  columns, market, engine)\n",
    "            except Exception as e:\n",
    "                data = []\n",
    "                logging.exception(e)\n",
    "        return data\n",
    "\n",
    "    @classmethod\n",
    "    def query(cls, request_url: str, arguments=None):\n",
    "        if arguments is None:\n",
    "            arguments = {}\n",
    "        with requests.Session() as session:\n",
    "            try:\n",
    "                iss = apimoex.ISSClient(session, cls.ISS_URL + request_url, arguments)\n",
    "                response = iss.get()\n",
    "            except Exception as e:\n",
    "                data = []\n",
    "                logging.exception(e)\n",
    "        return response\n",
    "\n",
    "\n",
    "class FinTimeSeries:\n",
    "\n",
    "    STD_COLUMNS = ('begin', 'open', 'high', 'low', 'close', 'volume')\n",
    "\n",
    "    def __init__(self, ticker, timeframe, start, end):\n",
    "        data = MoexAPI.download_history_data(ticker, timeframe, start, end, self.STD_COLUMNS)\n",
    "        self.data = pd.DataFrame(data)\n",
    "        self.ticker = ticker\n",
    "        self.timeframe = timeframe\n",
    "        self.start = start\n",
    "        self.end = end\n",
    "\n",
    "    @classmethod\n",
    "    def from_trade_days(cls, ticker, num_last_days, timeframe=24, curr_date=dt.date.today(), include_today=False):\n",
    "        start = curr_date - relativedelta(days=num_last_days*2)\n",
    "        if include_today:\n",
    "            end = curr_date\n",
    "        else:\n",
    "            yesterday = curr_date - dt.timedelta(days=1)\n",
    "            end = yesterday\n",
    "        year_tm = cls(ticker, 24, str(start), str(end))\n",
    "        year_tm.data = year_tm.data.tail(num_last_days)\n",
    "        year_tm.data = year_tm.data.reset_index(drop=True)\n",
    "        if timeframe != 24:\n",
    "            start = year_tm.data['begin'].iloc[0]\n",
    "            end = cls.add_delta(year_tm.data['begin'].iloc[-1], delta_duration=1, delta_mode='d')\n",
    "            year_tm = cls(ticker, timeframe, start, end)\n",
    "        return year_tm\n",
    "\n",
    "    @classmethod\n",
    "    def from_weeks(cls, ticker, num_weeks, timeframe=24, curr_date=dt.date.today()):\n",
    "        start = curr_date - dt.timedelta(weeks=num_weeks)\n",
    "        end = curr_date\n",
    "        return cls(ticker, timeframe, start, end)\n",
    "\n",
    "    @classmethod\n",
    "    def from_months(cls, ticker, num_months, timeframe=24, curr_date=dt.date.today()):\n",
    "        start = curr_date - relativedelta(months=num_months)\n",
    "        end = curr_date\n",
    "        return cls(ticker, timeframe, start, end)\n",
    "\n",
    "    @classmethod\n",
    "    def from_years(cls, ticker, num_years, timeframe=24, curr_date=dt.date.today()):\n",
    "        start = curr_date - relativedelta(years=num_years)\n",
    "        end = curr_date\n",
    "        return cls(ticker, timeframe, start, end)\n",
    "\n",
    "    @classmethod\n",
    "    def from_last(cls, ticker, period_type, period_num, timeframe, curr_date=dt.date.today()):\n",
    "        if period_type == 'd':\n",
    "            return cls.from_trade_days(ticker, period_num, timeframe, curr_date)\n",
    "        elif period_type == 'w':\n",
    "            return cls.from_weeks(ticker, period_num, timeframe, curr_date)\n",
    "        elif period_type == 'm':\n",
    "            return cls.from_months(ticker, period_num, timeframe, curr_date)\n",
    "        elif period_type == 'y':\n",
    "            return cls.from_years(ticker, period_num, timeframe, curr_date)\n",
    "        else:\n",
    "            return cls.from_trade_days(ticker, period_num, timeframe, curr_date)\n",
    "\n",
    "    def column(self, name):\n",
    "        return self.data[name]\n",
    "\n",
    "    def columns(self, column_names):\n",
    "        return self.data[column_names]\n",
    "\n",
    "    def candle_chart(self, without_slider=True):\n",
    "        fig = go.Figure(data=[go.Candlestick(x=self.data['begin'],\n",
    "                                             open=self.data['open'],\n",
    "                                             high=self.data['high'],\n",
    "                                             low=self.data['low'],\n",
    "                                             close=self.data['close'])])\n",
    "        if without_slider:\n",
    "            fig.update_layout(xaxis_rangeslider_visible=False)\n",
    "        fig.show()\n",
    "\n",
    "    def line_chart(self, column='close', with_slider=False):\n",
    "        fig = px.line(self.data, x='begin', y=column)\n",
    "        if with_slider:\n",
    "            fig.update_xaxes(rangeslider_visible=True)\n",
    "        fig.show()\n",
    "\n",
    "    def mean(self, column='close'):\n",
    "        return self.data[column].mean()\n",
    "\n",
    "    def var(self, column='close'):\n",
    "        return self.data[column].var()\n",
    "\n",
    "    def median(self, column='close'):\n",
    "        return self.data[column].median()\n",
    "\n",
    "    def std(self, column='close'):\n",
    "        return self.data[column].std()\n",
    "\n",
    "    def corr(self, columns=STD_COLUMNS):\n",
    "        if len(columns) == 2:\n",
    "            df_column1 = self.data[columns[0]]\n",
    "            df_column2 = self.data[columns[1]]\n",
    "            return df_column1.corr(df_column2)\n",
    "        elif len(columns) > 2:\n",
    "            df = self.data[list(columns)]\n",
    "            return df.corr()\n",
    "        else:\n",
    "            return None\n",
    "\n",
    "    def export_csv(self):\n",
    "        project_dir = os.path.dirname(os.path.dirname(__file__))\n",
    "        filename = \"out_\"+dt.datetime.now().strftime(\"%d.%m.%Y_%H.%M.%S\")+'.csv'\n",
    "        path = os.path.join(project_dir, 'data', 'export', filename)\n",
    "        self.data.to_csv(path, index=False)\n",
    "        return path\n",
    "\n",
    "    def export_xlsx(self):\n",
    "        project_dir = os.path.dirname(os.path.dirname(__file__))\n",
    "        filename = \"out_\"+dt.datetime.now().strftime(\"%d.%m.%Y_%H.%M.%S\")+'.xlsx'\n",
    "        path = os.path.join(project_dir, 'data', 'export', filename)\n",
    "        self.data.to_excel(path, index=False)\n",
    "        return path\n",
    "\n",
    "    def has_nulls(self):\n",
    "        return self.nulls_count() > 0\n",
    "\n",
    "    def nulls_count(self, by_columns=False):\n",
    "        if by_columns:\n",
    "            return dict(self.data.isna().sum())\n",
    "        else:\n",
    "            return self.data.isna().sum().sum()\n",
    "\n",
    "    def fill_na(self, method='bfill'):\n",
    "        self.data.fillna(method=method, inplace=True)\n",
    "\n",
    "    def drop_na(self):\n",
    "        self.data.dropna(inplace=True)\n",
    "\n",
    "    def is_empty(self):\n",
    "        return self.data.empty\n",
    "\n",
    "    @staticmethod\n",
    "    def add_delta(date: str, delta_duration, delta_mode='d', sub=False):\n",
    "        if delta_mode == 'd':\n",
    "            delta = dt.timedelta(days=delta_duration)\n",
    "        elif delta_mode == 'w':\n",
    "            delta = dt.timedelta(weeks=delta_duration)\n",
    "        elif delta_mode == 'm':\n",
    "            delta = relativedelta(months=delta_duration)\n",
    "        elif delta_mode == 'y':\n",
    "            delta = relativedelta(years=delta_duration)\n",
    "        else:\n",
    "            delta = dt.timedelta(days=delta_duration)\n",
    "        dt_date = dt.date.fromisoformat(date.split(' ')[0])\n",
    "        if not sub:\n",
    "            date = dt_date + delta\n",
    "        else:\n",
    "            date = dt_date - delta\n",
    "        return str(date)\n",
    "\n",
    "    @staticmethod\n",
    "    def transform_timeframe_for_api(timeframe):\n",
    "        if timeframe == 'd':\n",
    "            return 24\n",
    "        elif timeframe == 'w':\n",
    "            return 7\n",
    "        elif timeframe == 'm':\n",
    "            return 31\n",
    "        elif timeframe == 'h':\n",
    "            return 60\n",
    "        elif timeframe == '10min':\n",
    "            return 10\n",
    "        elif timeframe == '1min':\n",
    "            return 1\n",
    "        else:\n",
    "            return 24\n",
    "\n",
    "    def __str__(self):\n",
    "        return self.data.to_string()\n",
    "\n",
    "    def __len__(self):\n",
    "        return len(self.data['begin'])"
   ]
  },
  {
   "cell_type": "code",
   "execution_count": 32,
   "id": "7d531b71",
   "metadata": {
    "tags": []
   },
   "outputs": [
    {
     "name": "stdout",
     "output_type": "stream",
     "text": [
      "                  begin    open    high     low   close    volume\n",
      "0   2021-05-04 00:00:00  298.70  304.23  298.20  303.70  60457530\n",
      "1   2021-05-05 00:00:00  304.01  306.03  302.71  305.99  41715270\n",
      "2   2021-05-06 00:00:00  306.29  314.98  306.25  314.72  62565270\n",
      "3   2021-05-07 00:00:00  316.00  319.16  315.48  317.94  56433970\n",
      "4   2021-05-10 00:00:00  318.26  320.19  314.31  320.19  59248110\n",
      "5   2021-05-11 00:00:00  303.00  309.48  301.00  307.16  79945470\n",
      "6   2021-05-12 00:00:00  307.39  309.24  302.00  302.02  56142830\n",
      "7   2021-05-13 00:00:00  302.11  306.86  299.33  306.74  57721460\n",
      "8   2021-05-14 00:00:00  308.20  308.24  302.33  304.10  26858430\n",
      "9   2021-05-17 00:00:00  303.50  305.24  301.01  303.94  28384220\n",
      "10  2021-05-18 00:00:00  305.01  306.62  303.33  305.78  35496400\n",
      "11  2021-05-19 00:00:00  304.38  304.88  295.10  297.00  71747950\n",
      "12  2021-05-20 00:00:00  297.94  298.37  293.00  296.72  58510610\n",
      "13  2021-05-21 00:00:00  296.85  302.98  294.90  301.23  51415080\n",
      "14  2021-05-24 00:00:00  302.02  304.75  299.59  300.70  30831530\n",
      "15  2021-05-25 00:00:00  301.77  307.40  301.57  306.80  37547680\n",
      "16  2021-05-26 00:00:00  307.84  309.50  305.33  307.01  35358520\n",
      "17  2021-05-27 00:00:00  306.39  313.90  305.72  312.72  70753690\n",
      "18  2021-05-28 00:00:00  313.30  314.00  309.06  309.56  35484140\n",
      "19  2021-05-31 00:00:00  309.30  312.60  308.82  310.79  23683010\n",
      "20  2021-06-01 00:00:00  312.60  314.17  310.03  311.60  37655890\n"
     ]
    }
   ],
   "source": [
    "ts = FinTimeSeries('SBER', 24, '2021.05.01', '2021.06.01')\n",
    "    print(ts)"
   ]
  },
  {
   "cell_type": "code",
   "execution_count": 33,
   "id": "f0aa6758",
   "metadata": {
    "tags": []
   },
   "outputs": [],
   "source": [
    "# посмотрим, что получилось..."
   ]
  },
  {
   "cell_type": "code",
   "execution_count": 34,
   "id": "336a71b4",
   "metadata": {
    "tags": []
   },
   "outputs": [
    {
     "data": {
      "application/vnd.plotly.v1+json": {
       "config": {
        "plotlyServerURL": "https://plot.ly"
       },
       "data": [
        {
         "close": [
          303.7,
          305.99,
          314.72,
          317.94,
          320.19,
          307.16,
          302.02,
          306.74,
          304.1,
          303.94,
          305.78,
          297,
          296.72,
          301.23,
          300.7,
          306.8,
          307.01,
          312.72,
          309.56,
          310.79,
          311.6
         ],
         "high": [
          304.23,
          306.03,
          314.98,
          319.16,
          320.19,
          309.48,
          309.24,
          306.86,
          308.24,
          305.24,
          306.62,
          304.88,
          298.37,
          302.98,
          304.75,
          307.4,
          309.5,
          313.9,
          314,
          312.6,
          314.17
         ],
         "low": [
          298.2,
          302.71,
          306.25,
          315.48,
          314.31,
          301,
          302,
          299.33,
          302.33,
          301.01,
          303.33,
          295.1,
          293,
          294.9,
          299.59,
          301.57,
          305.33,
          305.72,
          309.06,
          308.82,
          310.03
         ],
         "open": [
          298.7,
          304.01,
          306.29,
          316,
          318.26,
          303,
          307.39,
          302.11,
          308.2,
          303.5,
          305.01,
          304.38,
          297.94,
          296.85,
          302.02,
          301.77,
          307.84,
          306.39,
          313.3,
          309.3,
          312.6
         ],
         "type": "candlestick",
         "x": [
          "2021-05-04 00:00:00",
          "2021-05-05 00:00:00",
          "2021-05-06 00:00:00",
          "2021-05-07 00:00:00",
          "2021-05-10 00:00:00",
          "2021-05-11 00:00:00",
          "2021-05-12 00:00:00",
          "2021-05-13 00:00:00",
          "2021-05-14 00:00:00",
          "2021-05-17 00:00:00",
          "2021-05-18 00:00:00",
          "2021-05-19 00:00:00",
          "2021-05-20 00:00:00",
          "2021-05-21 00:00:00",
          "2021-05-24 00:00:00",
          "2021-05-25 00:00:00",
          "2021-05-26 00:00:00",
          "2021-05-27 00:00:00",
          "2021-05-28 00:00:00",
          "2021-05-31 00:00:00",
          "2021-06-01 00:00:00"
         ]
        }
       ],
       "layout": {
        "autosize": true,
        "template": {
         "data": {
          "bar": [
           {
            "error_x": {
             "color": "#2a3f5f"
            },
            "error_y": {
             "color": "#2a3f5f"
            },
            "marker": {
             "line": {
              "color": "#E5ECF6",
              "width": 0.5
             },
             "pattern": {
              "fillmode": "overlay",
              "size": 10,
              "solidity": 0.2
             }
            },
            "type": "bar"
           }
          ],
          "barpolar": [
           {
            "marker": {
             "line": {
              "color": "#E5ECF6",
              "width": 0.5
             },
             "pattern": {
              "fillmode": "overlay",
              "size": 10,
              "solidity": 0.2
             }
            },
            "type": "barpolar"
           }
          ],
          "carpet": [
           {
            "aaxis": {
             "endlinecolor": "#2a3f5f",
             "gridcolor": "white",
             "linecolor": "white",
             "minorgridcolor": "white",
             "startlinecolor": "#2a3f5f"
            },
            "baxis": {
             "endlinecolor": "#2a3f5f",
             "gridcolor": "white",
             "linecolor": "white",
             "minorgridcolor": "white",
             "startlinecolor": "#2a3f5f"
            },
            "type": "carpet"
           }
          ],
          "choropleth": [
           {
            "colorbar": {
             "outlinewidth": 0,
             "ticks": ""
            },
            "type": "choropleth"
           }
          ],
          "contour": [
           {
            "colorbar": {
             "outlinewidth": 0,
             "ticks": ""
            },
            "colorscale": [
             [
              0,
              "#0d0887"
             ],
             [
              0.1111111111111111,
              "#46039f"
             ],
             [
              0.2222222222222222,
              "#7201a8"
             ],
             [
              0.3333333333333333,
              "#9c179e"
             ],
             [
              0.4444444444444444,
              "#bd3786"
             ],
             [
              0.5555555555555556,
              "#d8576b"
             ],
             [
              0.6666666666666666,
              "#ed7953"
             ],
             [
              0.7777777777777778,
              "#fb9f3a"
             ],
             [
              0.8888888888888888,
              "#fdca26"
             ],
             [
              1,
              "#f0f921"
             ]
            ],
            "type": "contour"
           }
          ],
          "contourcarpet": [
           {
            "colorbar": {
             "outlinewidth": 0,
             "ticks": ""
            },
            "type": "contourcarpet"
           }
          ],
          "heatmap": [
           {
            "colorbar": {
             "outlinewidth": 0,
             "ticks": ""
            },
            "colorscale": [
             [
              0,
              "#0d0887"
             ],
             [
              0.1111111111111111,
              "#46039f"
             ],
             [
              0.2222222222222222,
              "#7201a8"
             ],
             [
              0.3333333333333333,
              "#9c179e"
             ],
             [
              0.4444444444444444,
              "#bd3786"
             ],
             [
              0.5555555555555556,
              "#d8576b"
             ],
             [
              0.6666666666666666,
              "#ed7953"
             ],
             [
              0.7777777777777778,
              "#fb9f3a"
             ],
             [
              0.8888888888888888,
              "#fdca26"
             ],
             [
              1,
              "#f0f921"
             ]
            ],
            "type": "heatmap"
           }
          ],
          "heatmapgl": [
           {
            "colorbar": {
             "outlinewidth": 0,
             "ticks": ""
            },
            "colorscale": [
             [
              0,
              "#0d0887"
             ],
             [
              0.1111111111111111,
              "#46039f"
             ],
             [
              0.2222222222222222,
              "#7201a8"
             ],
             [
              0.3333333333333333,
              "#9c179e"
             ],
             [
              0.4444444444444444,
              "#bd3786"
             ],
             [
              0.5555555555555556,
              "#d8576b"
             ],
             [
              0.6666666666666666,
              "#ed7953"
             ],
             [
              0.7777777777777778,
              "#fb9f3a"
             ],
             [
              0.8888888888888888,
              "#fdca26"
             ],
             [
              1,
              "#f0f921"
             ]
            ],
            "type": "heatmapgl"
           }
          ],
          "histogram": [
           {
            "marker": {
             "pattern": {
              "fillmode": "overlay",
              "size": 10,
              "solidity": 0.2
             }
            },
            "type": "histogram"
           }
          ],
          "histogram2d": [
           {
            "colorbar": {
             "outlinewidth": 0,
             "ticks": ""
            },
            "colorscale": [
             [
              0,
              "#0d0887"
             ],
             [
              0.1111111111111111,
              "#46039f"
             ],
             [
              0.2222222222222222,
              "#7201a8"
             ],
             [
              0.3333333333333333,
              "#9c179e"
             ],
             [
              0.4444444444444444,
              "#bd3786"
             ],
             [
              0.5555555555555556,
              "#d8576b"
             ],
             [
              0.6666666666666666,
              "#ed7953"
             ],
             [
              0.7777777777777778,
              "#fb9f3a"
             ],
             [
              0.8888888888888888,
              "#fdca26"
             ],
             [
              1,
              "#f0f921"
             ]
            ],
            "type": "histogram2d"
           }
          ],
          "histogram2dcontour": [
           {
            "colorbar": {
             "outlinewidth": 0,
             "ticks": ""
            },
            "colorscale": [
             [
              0,
              "#0d0887"
             ],
             [
              0.1111111111111111,
              "#46039f"
             ],
             [
              0.2222222222222222,
              "#7201a8"
             ],
             [
              0.3333333333333333,
              "#9c179e"
             ],
             [
              0.4444444444444444,
              "#bd3786"
             ],
             [
              0.5555555555555556,
              "#d8576b"
             ],
             [
              0.6666666666666666,
              "#ed7953"
             ],
             [
              0.7777777777777778,
              "#fb9f3a"
             ],
             [
              0.8888888888888888,
              "#fdca26"
             ],
             [
              1,
              "#f0f921"
             ]
            ],
            "type": "histogram2dcontour"
           }
          ],
          "mesh3d": [
           {
            "colorbar": {
             "outlinewidth": 0,
             "ticks": ""
            },
            "type": "mesh3d"
           }
          ],
          "parcoords": [
           {
            "line": {
             "colorbar": {
              "outlinewidth": 0,
              "ticks": ""
             }
            },
            "type": "parcoords"
           }
          ],
          "pie": [
           {
            "automargin": true,
            "type": "pie"
           }
          ],
          "scatter": [
           {
            "fillpattern": {
             "fillmode": "overlay",
             "size": 10,
             "solidity": 0.2
            },
            "type": "scatter"
           }
          ],
          "scatter3d": [
           {
            "line": {
             "colorbar": {
              "outlinewidth": 0,
              "ticks": ""
             }
            },
            "marker": {
             "colorbar": {
              "outlinewidth": 0,
              "ticks": ""
             }
            },
            "type": "scatter3d"
           }
          ],
          "scattercarpet": [
           {
            "marker": {
             "colorbar": {
              "outlinewidth": 0,
              "ticks": ""
             }
            },
            "type": "scattercarpet"
           }
          ],
          "scattergeo": [
           {
            "marker": {
             "colorbar": {
              "outlinewidth": 0,
              "ticks": ""
             }
            },
            "type": "scattergeo"
           }
          ],
          "scattergl": [
           {
            "marker": {
             "colorbar": {
              "outlinewidth": 0,
              "ticks": ""
             }
            },
            "type": "scattergl"
           }
          ],
          "scattermapbox": [
           {
            "marker": {
             "colorbar": {
              "outlinewidth": 0,
              "ticks": ""
             }
            },
            "type": "scattermapbox"
           }
          ],
          "scatterpolar": [
           {
            "marker": {
             "colorbar": {
              "outlinewidth": 0,
              "ticks": ""
             }
            },
            "type": "scatterpolar"
           }
          ],
          "scatterpolargl": [
           {
            "marker": {
             "colorbar": {
              "outlinewidth": 0,
              "ticks": ""
             }
            },
            "type": "scatterpolargl"
           }
          ],
          "scatterternary": [
           {
            "marker": {
             "colorbar": {
              "outlinewidth": 0,
              "ticks": ""
             }
            },
            "type": "scatterternary"
           }
          ],
          "surface": [
           {
            "colorbar": {
             "outlinewidth": 0,
             "ticks": ""
            },
            "colorscale": [
             [
              0,
              "#0d0887"
             ],
             [
              0.1111111111111111,
              "#46039f"
             ],
             [
              0.2222222222222222,
              "#7201a8"
             ],
             [
              0.3333333333333333,
              "#9c179e"
             ],
             [
              0.4444444444444444,
              "#bd3786"
             ],
             [
              0.5555555555555556,
              "#d8576b"
             ],
             [
              0.6666666666666666,
              "#ed7953"
             ],
             [
              0.7777777777777778,
              "#fb9f3a"
             ],
             [
              0.8888888888888888,
              "#fdca26"
             ],
             [
              1,
              "#f0f921"
             ]
            ],
            "type": "surface"
           }
          ],
          "table": [
           {
            "cells": {
             "fill": {
              "color": "#EBF0F8"
             },
             "line": {
              "color": "white"
             }
            },
            "header": {
             "fill": {
              "color": "#C8D4E3"
             },
             "line": {
              "color": "white"
             }
            },
            "type": "table"
           }
          ]
         },
         "layout": {
          "annotationdefaults": {
           "arrowcolor": "#2a3f5f",
           "arrowhead": 0,
           "arrowwidth": 1
          },
          "autotypenumbers": "strict",
          "coloraxis": {
           "colorbar": {
            "outlinewidth": 0,
            "ticks": ""
           }
          },
          "colorscale": {
           "diverging": [
            [
             0,
             "#8e0152"
            ],
            [
             0.1,
             "#c51b7d"
            ],
            [
             0.2,
             "#de77ae"
            ],
            [
             0.3,
             "#f1b6da"
            ],
            [
             0.4,
             "#fde0ef"
            ],
            [
             0.5,
             "#f7f7f7"
            ],
            [
             0.6,
             "#e6f5d0"
            ],
            [
             0.7,
             "#b8e186"
            ],
            [
             0.8,
             "#7fbc41"
            ],
            [
             0.9,
             "#4d9221"
            ],
            [
             1,
             "#276419"
            ]
           ],
           "sequential": [
            [
             0,
             "#0d0887"
            ],
            [
             0.1111111111111111,
             "#46039f"
            ],
            [
             0.2222222222222222,
             "#7201a8"
            ],
            [
             0.3333333333333333,
             "#9c179e"
            ],
            [
             0.4444444444444444,
             "#bd3786"
            ],
            [
             0.5555555555555556,
             "#d8576b"
            ],
            [
             0.6666666666666666,
             "#ed7953"
            ],
            [
             0.7777777777777778,
             "#fb9f3a"
            ],
            [
             0.8888888888888888,
             "#fdca26"
            ],
            [
             1,
             "#f0f921"
            ]
           ],
           "sequentialminus": [
            [
             0,
             "#0d0887"
            ],
            [
             0.1111111111111111,
             "#46039f"
            ],
            [
             0.2222222222222222,
             "#7201a8"
            ],
            [
             0.3333333333333333,
             "#9c179e"
            ],
            [
             0.4444444444444444,
             "#bd3786"
            ],
            [
             0.5555555555555556,
             "#d8576b"
            ],
            [
             0.6666666666666666,
             "#ed7953"
            ],
            [
             0.7777777777777778,
             "#fb9f3a"
            ],
            [
             0.8888888888888888,
             "#fdca26"
            ],
            [
             1,
             "#f0f921"
            ]
           ]
          },
          "colorway": [
           "#636efa",
           "#EF553B",
           "#00cc96",
           "#ab63fa",
           "#FFA15A",
           "#19d3f3",
           "#FF6692",
           "#B6E880",
           "#FF97FF",
           "#FECB52"
          ],
          "font": {
           "color": "#2a3f5f"
          },
          "geo": {
           "bgcolor": "white",
           "lakecolor": "white",
           "landcolor": "#E5ECF6",
           "showlakes": true,
           "showland": true,
           "subunitcolor": "white"
          },
          "hoverlabel": {
           "align": "left"
          },
          "hovermode": "closest",
          "mapbox": {
           "style": "light"
          },
          "paper_bgcolor": "white",
          "plot_bgcolor": "#E5ECF6",
          "polar": {
           "angularaxis": {
            "gridcolor": "white",
            "linecolor": "white",
            "ticks": ""
           },
           "bgcolor": "#E5ECF6",
           "radialaxis": {
            "gridcolor": "white",
            "linecolor": "white",
            "ticks": ""
           }
          },
          "scene": {
           "xaxis": {
            "backgroundcolor": "#E5ECF6",
            "gridcolor": "white",
            "gridwidth": 2,
            "linecolor": "white",
            "showbackground": true,
            "ticks": "",
            "zerolinecolor": "white"
           },
           "yaxis": {
            "backgroundcolor": "#E5ECF6",
            "gridcolor": "white",
            "gridwidth": 2,
            "linecolor": "white",
            "showbackground": true,
            "ticks": "",
            "zerolinecolor": "white"
           },
           "zaxis": {
            "backgroundcolor": "#E5ECF6",
            "gridcolor": "white",
            "gridwidth": 2,
            "linecolor": "white",
            "showbackground": true,
            "ticks": "",
            "zerolinecolor": "white"
           }
          },
          "shapedefaults": {
           "line": {
            "color": "#2a3f5f"
           }
          },
          "ternary": {
           "aaxis": {
            "gridcolor": "white",
            "linecolor": "white",
            "ticks": ""
           },
           "baxis": {
            "gridcolor": "white",
            "linecolor": "white",
            "ticks": ""
           },
           "bgcolor": "#E5ECF6",
           "caxis": {
            "gridcolor": "white",
            "linecolor": "white",
            "ticks": ""
           }
          },
          "title": {
           "x": 0.05
          },
          "xaxis": {
           "automargin": true,
           "gridcolor": "white",
           "linecolor": "white",
           "ticks": "",
           "title": {
            "standoff": 15
           },
           "zerolinecolor": "white",
           "zerolinewidth": 2
          },
          "yaxis": {
           "automargin": true,
           "gridcolor": "white",
           "linecolor": "white",
           "ticks": "",
           "title": {
            "standoff": 15
           },
           "zerolinecolor": "white",
           "zerolinewidth": 2
          }
         }
        },
        "xaxis": {
         "autorange": true,
         "range": [
          "2021-05-03 12:00",
          "2021-06-01 12:00"
         ],
         "rangeslider": {
          "visible": false,
          "yaxis": {}
         },
         "type": "date"
        },
        "yaxis": {
         "autorange": true,
         "range": [
          291.4894444444444,
          321.7005555555555
         ]
        }
       }
      },
      "image/png": "[encoded data removed]",
      "text/html": [
       "<div>                            <div id=\"460d8897-7010-4842-90e9-fec37866a77a\" class=\"plotly-graph-div\" style=\"height:525px; width:100%;\"></div>            <script type=\"text/javascript\">                require([\"plotly\"], function(Plotly) {                    window.PLOTLYENV=window.PLOTLYENV || {};                                    if (document.getElementById(\"460d8897-7010-4842-90e9-fec37866a77a\")) {                    Plotly.newPlot(                        \"460d8897-7010-4842-90e9-fec37866a77a\",                        [{\"close\":[303.7,305.99,314.72,317.94,320.19,307.16,302.02,306.74,304.1,303.94,305.78,297.0,296.72,301.23,300.7,306.8,307.01,312.72,309.56,310.79,311.6],\"high\":[304.23,306.03,314.98,319.16,320.19,309.48,309.24,306.86,308.24,305.24,306.62,304.88,298.37,302.98,304.75,307.4,309.5,313.9,314.0,312.6,314.17],\"low\":[298.2,302.71,306.25,315.48,314.31,301.0,302.0,299.33,302.33,301.01,303.33,295.1,293.0,294.9,299.59,301.57,305.33,305.72,309.06,308.82,310.03],\"open\":[298.7,304.01,306.29,316.0,318.26,303.0,307.39,302.11,308.2,303.5,305.01,304.38,297.94,296.85,302.02,301.77,307.84,306.39,313.3,309.3,312.6],\"x\":[\"2021-05-04 00:00:00\",\"2021-05-05 00:00:00\",\"2021-05-06 00:00:00\",\"2021-05-07 00:00:00\",\"2021-05-10 00:00:00\",\"2021-05-11 00:00:00\",\"2021-05-12 00:00:00\",\"2021-05-13 00:00:00\",\"2021-05-14 00:00:00\",\"2021-05-17 00:00:00\",\"2021-05-18 00:00:00\",\"2021-05-19 00:00:00\",\"2021-05-20 00:00:00\",\"2021-05-21 00:00:00\",\"2021-05-24 00:00:00\",\"2021-05-25 00:00:00\",\"2021-05-26 00:00:00\",\"2021-05-27 00:00:00\",\"2021-05-28 00:00:00\",\"2021-05-31 00:00:00\",\"2021-06-01 00:00:00\"],\"type\":\"candlestick\"}],                        {\"template\":{\"data\":{\"histogram2dcontour\":[{\"type\":\"histogram2dcontour\",\"colorbar\":{\"outlinewidth\":0,\"ticks\":\"\"},\"colorscale\":[[0.0,\"#0d0887\"],[0.1111111111111111,\"#46039f\"],[0.2222222222222222,\"#7201a8\"],[0.3333333333333333,\"#9c179e\"],[0.4444444444444444,\"#bd3786\"],[0.5555555555555556,\"#d8576b\"],[0.6666666666666666,\"#ed7953\"],[0.7777777777777778,\"#fb9f3a\"],[0.8888888888888888,\"#fdca26\"],[1.0,\"#f0f921\"]]}],\"choropleth\":[{\"type\":\"choropleth\",\"colorbar\":{\"outlinewidth\":0,\"ticks\":\"\"}}],\"histogram2d\":[{\"type\":\"histogram2d\",\"colorbar\":{\"outlinewidth\":0,\"ticks\":\"\"},\"colorscale\":[[0.0,\"#0d0887\"],[0.1111111111111111,\"#46039f\"],[0.2222222222222222,\"#7201a8\"],[0.3333333333333333,\"#9c179e\"],[0.4444444444444444,\"#bd3786\"],[0.5555555555555556,\"#d8576b\"],[0.6666666666666666,\"#ed7953\"],[0.7777777777777778,\"#fb9f3a\"],[0.8888888888888888,\"#fdca26\"],[1.0,\"#f0f921\"]]}],\"heatmap\":[{\"type\":\"heatmap\",\"colorbar\":{\"outlinewidth\":0,\"ticks\":\"\"},\"colorscale\":[[0.0,\"#0d0887\"],[0.1111111111111111,\"#46039f\"],[0.2222222222222222,\"#7201a8\"],[0.3333333333333333,\"#9c179e\"],[0.4444444444444444,\"#bd3786\"],[0.5555555555555556,\"#d8576b\"],[0.6666666666666666,\"#ed7953\"],[0.7777777777777778,\"#fb9f3a\"],[0.8888888888888888,\"#fdca26\"],[1.0,\"#f0f921\"]]}],\"heatmapgl\":[{\"type\":\"heatmapgl\",\"colorbar\":{\"outlinewidth\":0,\"ticks\":\"\"},\"colorscale\":[[0.0,\"#0d0887\"],[0.1111111111111111,\"#46039f\"],[0.2222222222222222,\"#7201a8\"],[0.3333333333333333,\"#9c179e\"],[0.4444444444444444,\"#bd3786\"],[0.5555555555555556,\"#d8576b\"],[0.6666666666666666,\"#ed7953\"],[0.7777777777777778,\"#fb9f3a\"],[0.8888888888888888,\"#fdca26\"],[1.0,\"#f0f921\"]]}],\"contourcarpet\":[{\"type\":\"contourcarpet\",\"colorbar\":{\"outlinewidth\":0,\"ticks\":\"\"}}],\"contour\":[{\"type\":\"contour\",\"colorbar\":{\"outlinewidth\":0,\"ticks\":\"\"},\"colorscale\":[[0.0,\"#0d0887\"],[0.1111111111111111,\"#46039f\"],[0.2222222222222222,\"#7201a8\"],[0.3333333333333333,\"#9c179e\"],[0.4444444444444444,\"#bd3786\"],[0.5555555555555556,\"#d8576b\"],[0.6666666666666666,\"#ed7953\"],[0.7777777777777778,\"#fb9f3a\"],[0.8888888888888888,\"#fdca26\"],[1.0,\"#f0f921\"]]}],\"surface\":[{\"type\":\"surface\",\"colorbar\":{\"outlinewidth\":0,\"ticks\":\"\"},\"colorscale\":[[0.0,\"#0d0887\"],[0.1111111111111111,\"#46039f\"],[0.2222222222222222,\"#7201a8\"],[0.3333333333333333,\"#9c179e\"],[0.4444444444444444,\"#bd3786\"],[0.5555555555555556,\"#d8576b\"],[0.6666666666666666,\"#ed7953\"],[0.7777777777777778,\"#fb9f3a\"],[0.8888888888888888,\"#fdca26\"],[1.0,\"#f0f921\"]]}],\"mesh3d\":[{\"type\":\"mesh3d\",\"colorbar\":{\"outlinewidth\":0,\"ticks\":\"\"}}],\"scatter\":[{\"fillpattern\":{\"fillmode\":\"overlay\",\"size\":10,\"solidity\":0.2},\"type\":\"scatter\"}],\"parcoords\":[{\"type\":\"parcoords\",\"line\":{\"colorbar\":{\"outlinewidth\":0,\"ticks\":\"\"}}}],\"scatterpolargl\":[{\"type\":\"scatterpolargl\",\"marker\":{\"colorbar\":{\"outlinewidth\":0,\"ticks\":\"\"}}}],\"bar\":[{\"error_x\":{\"color\":\"#2a3f5f\"},\"error_y\":{\"color\":\"#2a3f5f\"},\"marker\":{\"line\":{\"color\":\"#E5ECF6\",\"width\":0.5},\"pattern\":{\"fillmode\":\"overlay\",\"size\":10,\"solidity\":0.2}},\"type\":\"bar\"}],\"scattergeo\":[{\"type\":\"scattergeo\",\"marker\":{\"colorbar\":{\"outlinewidth\":0,\"ticks\":\"\"}}}],\"scatterpolar\":[{\"type\":\"scatterpolar\",\"marker\":{\"colorbar\":{\"outlinewidth\":0,\"ticks\":\"\"}}}],\"histogram\":[{\"marker\":{\"pattern\":{\"fillmode\":\"overlay\",\"size\":10,\"solidity\":0.2}},\"type\":\"histogram\"}],\"scattergl\":[{\"type\":\"scattergl\",\"marker\":{\"colorbar\":{\"outlinewidth\":0,\"ticks\":\"\"}}}],\"scatter3d\":[{\"type\":\"scatter3d\",\"line\":{\"colorbar\":{\"outlinewidth\":0,\"ticks\":\"\"}},\"marker\":{\"colorbar\":{\"outlinewidth\":0,\"ticks\":\"\"}}}],\"scattermapbox\":[{\"type\":\"scattermapbox\",\"marker\":{\"colorbar\":{\"outlinewidth\":0,\"ticks\":\"\"}}}],\"scatterternary\":[{\"type\":\"scatterternary\",\"marker\":{\"colorbar\":{\"outlinewidth\":0,\"ticks\":\"\"}}}],\"scattercarpet\":[{\"type\":\"scattercarpet\",\"marker\":{\"colorbar\":{\"outlinewidth\":0,\"ticks\":\"\"}}}],\"carpet\":[{\"aaxis\":{\"endlinecolor\":\"#2a3f5f\",\"gridcolor\":\"white\",\"linecolor\":\"white\",\"minorgridcolor\":\"white\",\"startlinecolor\":\"#2a3f5f\"},\"baxis\":{\"endlinecolor\":\"#2a3f5f\",\"gridcolor\":\"white\",\"linecolor\":\"white\",\"minorgridcolor\":\"white\",\"startlinecolor\":\"#2a3f5f\"},\"type\":\"carpet\"}],\"table\":[{\"cells\":{\"fill\":{\"color\":\"#EBF0F8\"},\"line\":{\"color\":\"white\"}},\"header\":{\"fill\":{\"color\":\"#C8D4E3\"},\"line\":{\"color\":\"white\"}},\"type\":\"table\"}],\"barpolar\":[{\"marker\":{\"line\":{\"color\":\"#E5ECF6\",\"width\":0.5},\"pattern\":{\"fillmode\":\"overlay\",\"size\":10,\"solidity\":0.2}},\"type\":\"barpolar\"}],\"pie\":[{\"automargin\":true,\"type\":\"pie\"}]},\"layout\":{\"autotypenumbers\":\"strict\",\"colorway\":[\"#636efa\",\"#EF553B\",\"#00cc96\",\"#ab63fa\",\"#FFA15A\",\"#19d3f3\",\"#FF6692\",\"#B6E880\",\"#FF97FF\",\"#FECB52\"],\"font\":{\"color\":\"#2a3f5f\"},\"hovermode\":\"closest\",\"hoverlabel\":{\"align\":\"left\"},\"paper_bgcolor\":\"white\",\"plot_bgcolor\":\"#E5ECF6\",\"polar\":{\"bgcolor\":\"#E5ECF6\",\"angularaxis\":{\"gridcolor\":\"white\",\"linecolor\":\"white\",\"ticks\":\"\"},\"radialaxis\":{\"gridcolor\":\"white\",\"linecolor\":\"white\",\"ticks\":\"\"}},\"ternary\":{\"bgcolor\":\"#E5ECF6\",\"aaxis\":{\"gridcolor\":\"white\",\"linecolor\":\"white\",\"ticks\":\"\"},\"baxis\":{\"gridcolor\":\"white\",\"linecolor\":\"white\",\"ticks\":\"\"},\"caxis\":{\"gridcolor\":\"white\",\"linecolor\":\"white\",\"ticks\":\"\"}},\"coloraxis\":{\"colorbar\":{\"outlinewidth\":0,\"ticks\":\"\"}},\"colorscale\":{\"sequential\":[[0.0,\"#0d0887\"],[0.1111111111111111,\"#46039f\"],[0.2222222222222222,\"#7201a8\"],[0.3333333333333333,\"#9c179e\"],[0.4444444444444444,\"#bd3786\"],[0.5555555555555556,\"#d8576b\"],[0.6666666666666666,\"#ed7953\"],[0.7777777777777778,\"#fb9f3a\"],[0.8888888888888888,\"#fdca26\"],[1.0,\"#f0f921\"]],\"sequentialminus\":[[0.0,\"#0d0887\"],[0.1111111111111111,\"#46039f\"],[0.2222222222222222,\"#7201a8\"],[0.3333333333333333,\"#9c179e\"],[0.4444444444444444,\"#bd3786\"],[0.5555555555555556,\"#d8576b\"],[0.6666666666666666,\"#ed7953\"],[0.7777777777777778,\"#fb9f3a\"],[0.8888888888888888,\"#fdca26\"],[1.0,\"#f0f921\"]],\"diverging\":[[0,\"#8e0152\"],[0.1,\"#c51b7d\"],[0.2,\"#de77ae\"],[0.3,\"#f1b6da\"],[0.4,\"#fde0ef\"],[0.5,\"#f7f7f7\"],[0.6,\"#e6f5d0\"],[0.7,\"#b8e186\"],[0.8,\"#7fbc41\"],[0.9,\"#4d9221\"],[1,\"#276419\"]]},\"xaxis\":{\"gridcolor\":\"white\",\"linecolor\":\"white\",\"ticks\":\"\",\"title\":{\"standoff\":15},\"zerolinecolor\":\"white\",\"automargin\":true,\"zerolinewidth\":2},\"yaxis\":{\"gridcolor\":\"white\",\"linecolor\":\"white\",\"ticks\":\"\",\"title\":{\"standoff\":15},\"zerolinecolor\":\"white\",\"automargin\":true,\"zerolinewidth\":2},\"scene\":{\"xaxis\":{\"backgroundcolor\":\"#E5ECF6\",\"gridcolor\":\"white\",\"linecolor\":\"white\",\"showbackground\":true,\"ticks\":\"\",\"zerolinecolor\":\"white\",\"gridwidth\":2},\"yaxis\":{\"backgroundcolor\":\"#E5ECF6\",\"gridcolor\":\"white\",\"linecolor\":\"white\",\"showbackground\":true,\"ticks\":\"\",\"zerolinecolor\":\"white\",\"gridwidth\":2},\"zaxis\":{\"backgroundcolor\":\"#E5ECF6\",\"gridcolor\":\"white\",\"linecolor\":\"white\",\"showbackground\":true,\"ticks\":\"\",\"zerolinecolor\":\"white\",\"gridwidth\":2}},\"shapedefaults\":{\"line\":{\"color\":\"#2a3f5f\"}},\"annotationdefaults\":{\"arrowcolor\":\"#2a3f5f\",\"arrowhead\":0,\"arrowwidth\":1},\"geo\":{\"bgcolor\":\"white\",\"landcolor\":\"#E5ECF6\",\"subunitcolor\":\"white\",\"showland\":true,\"showlakes\":true,\"lakecolor\":\"white\"},\"title\":{\"x\":0.05},\"mapbox\":{\"style\":\"light\"}}},\"xaxis\":{\"rangeslider\":{\"visible\":false}}},                        {\"responsive\": true}                    ).then(function(){\n",
       "                            \n",
       "var gd = document.getElementById('460d8897-7010-4842-90e9-fec37866a77a');\n",
       "var x = new MutationObserver(function (mutations, observer) {{\n",
       "        var display = window.getComputedStyle(gd).display;\n",
       "        if (!display || display === 'none') {{\n",
       "            console.log([gd, 'removed!']);\n",
       "            Plotly.purge(gd);\n",
       "            observer.disconnect();\n",
       "        }}\n",
       "}});\n",
       "\n",
       "// Listen for the removal of the full notebook cells\n",
       "var notebookContainer = gd.closest('#notebook-container');\n",
       "if (notebookContainer) {{\n",
       "    x.observe(notebookContainer, {childList: true});\n",
       "}}\n",
       "\n",
       "// Listen for the clearing of the current output cell\n",
       "var outputEl = gd.closest('.output');\n",
       "if (outputEl) {{\n",
       "    x.observe(outputEl, {childList: true});\n",
       "}}\n",
       "\n",
       "                        })                };                });            </script>        </div>"
      ]
     },
     "metadata": {},
     "output_type": "display_data"
    }
   ],
   "source": [
    "ts.candle_chart()"
   ]
  },
  {
   "cell_type": "code",
   "execution_count": null,
   "id": "a4accd02-b48b-4b74-a7ba-7287a05db084",
   "metadata": {},
   "outputs": [],
   "source": []
  }
 ],
 "metadata": {
  "kernelspec": {
   "display_name": "Python 3 (ipykernel)",
   "language": "python",
   "name": "python3"
  },
  "language_info": {
   "codemirror_mode": {
    "name": "ipython",
    "version": 3
   },
   "file_extension": ".py",
   "mimetype": "text/x-python",
   "name": "python",
   "nbconvert_exporter": "python",
   "pygments_lexer": "ipython3",
   "version": "3.11.2"
  }
 },
 "nbformat": 4,
 "nbformat_minor": 5
}
