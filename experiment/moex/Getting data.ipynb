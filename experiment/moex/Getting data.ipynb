{
 "cells": [
  {
   "cell_type": "markdown",
   "id": "1035af21",
   "metadata": {},
   "source": [
    "#### установка зависимостей ..."
   ]
  },
  {
   "cell_type": "code",
   "execution_count": null,
   "id": "1cc4f76a",
   "metadata": {},
   "outputs": [],
   "source": [
    "pip install plotly"
   ]
  },
  {
   "cell_type": "markdown",
   "id": "884629c7",
   "metadata": {},
   "source": [
    "##### https://pypi.org/project/apimoex/"
   ]
  },
  {
   "cell_type": "code",
   "execution_count": null,
   "id": "23175993",
   "metadata": {},
   "outputs": [],
   "source": [
    "pip install apimoex"
   ]
  },
  {
   "cell_type": "code",
   "execution_count": null,
   "id": "14be619f",
   "metadata": {},
   "outputs": [],
   "source": []
  },
  {
   "cell_type": "markdown",
   "id": "b948c520",
   "metadata": {},
   "source": [
    "### Содержимое файла FinanceCode.py ..."
   ]
  },
  {
   "cell_type": "code",
   "execution_count": 4,
   "id": "c7eb6bd2",
   "metadata": {},
   "outputs": [],
   "source": [
    "import numpy as np\n",
    "import pandas as pd\n",
    "import requests\n",
    "import plotly.graph_objects as go\n",
    "import plotly.express as px\n",
    "import datetime as dt\n",
    "import os\n",
    "from dateutil.relativedelta import relativedelta"
   ]
  },
  {
   "cell_type": "markdown",
   "id": "7e323a6b",
   "metadata": {},
   "source": [
    "&bullet; Если что-то не импортируется, попробуйте создать выше ячейку `pip install <что-то>` и выполнить.  \n",
    "&bullet; Затем возвращайтесь сюда, к импортам."
   ]
  },
  {
   "cell_type": "code",
   "execution_count": 10,
   "id": "944326f1",
   "metadata": {},
   "outputs": [],
   "source": [
    "import apimoex"
   ]
  },
  {
   "cell_type": "code",
   "execution_count": 13,
   "id": "9984c151",
   "metadata": {},
   "outputs": [],
   "source": [
    "import logging"
   ]
  },
  {
   "cell_type": "code",
   "execution_count": 16,
   "id": "ed7f2bc9",
   "metadata": {},
   "outputs": [],
   "source": [
    "class MoexAPI:\n",
    "    ISS_URL = 'https://iss.moex.com/iss/'\n",
    "\n",
    "    @staticmethod\n",
    "    def download_history_data(ticker, timeframe, start, end, columns, market='shares', engine='stock'):\n",
    "        with requests.Session() as session:\n",
    "            try:\n",
    "                data = apimoex.get_market_candles(session, ticker, timeframe, start, end,\n",
    "                                                  columns, market, engine)\n",
    "            except Exception as e:\n",
    "                data = []\n",
    "                logging.exception(e)\n",
    "        return data\n",
    "\n",
    "    @classmethod\n",
    "    def query(cls, request_url: str, arguments=None):\n",
    "        if arguments is None:\n",
    "            arguments = {}\n",
    "        with requests.Session() as session:\n",
    "            try:\n",
    "                iss = apimoex.ISSClient(session, cls.ISS_URL + request_url, arguments)\n",
    "                response = iss.get()\n",
    "            except Exception as e:\n",
    "                data = []\n",
    "                logging.exception(e)\n",
    "        return response\n",
    "\n",
    "\n",
    "class FinTimeSeries:\n",
    "\n",
    "    STD_COLUMNS = ('begin', 'open', 'high', 'low', 'close', 'volume')\n",
    "\n",
    "    def __init__(self, ticker, timeframe, start, end):\n",
    "        data = MoexAPI.download_history_data(ticker, timeframe, start, end, self.STD_COLUMNS)\n",
    "        self.data = pd.DataFrame(data)\n",
    "        self.ticker = ticker\n",
    "        self.timeframe = timeframe\n",
    "        self.start = start\n",
    "        self.end = end\n",
    "\n",
    "    @classmethod\n",
    "    def from_trade_days(cls, ticker, num_last_days, timeframe=24, curr_date=dt.date.today(), include_today=False):\n",
    "        start = curr_date - relativedelta(days=num_last_days*2)\n",
    "        if include_today:\n",
    "            end = curr_date\n",
    "        else:\n",
    "            yesterday = curr_date - dt.timedelta(days=1)\n",
    "            end = yesterday\n",
    "        year_tm = cls(ticker, 24, str(start), str(end))\n",
    "        year_tm.data = year_tm.data.tail(num_last_days)\n",
    "        year_tm.data = year_tm.data.reset_index(drop=True)\n",
    "        if timeframe != 24:\n",
    "            start = year_tm.data['begin'].iloc[0]\n",
    "            end = cls.add_delta(year_tm.data['begin'].iloc[-1], delta_duration=1, delta_mode='d')\n",
    "            year_tm = cls(ticker, timeframe, start, end)\n",
    "        return year_tm\n",
    "\n",
    "    @classmethod\n",
    "    def from_weeks(cls, ticker, num_weeks, timeframe=24, curr_date=dt.date.today()):\n",
    "        start = curr_date - dt.timedelta(weeks=num_weeks)\n",
    "        end = curr_date\n",
    "        return cls(ticker, timeframe, start, end)\n",
    "\n",
    "    @classmethod\n",
    "    def from_months(cls, ticker, num_months, timeframe=24, curr_date=dt.date.today()):\n",
    "        start = curr_date - relativedelta(months=num_months)\n",
    "        end = curr_date\n",
    "        return cls(ticker, timeframe, start, end)\n",
    "\n",
    "    @classmethod\n",
    "    def from_years(cls, ticker, num_years, timeframe=24, curr_date=dt.date.today()):\n",
    "        start = curr_date - relativedelta(years=num_years)\n",
    "        end = curr_date\n",
    "        return cls(ticker, timeframe, start, end)\n",
    "\n",
    "    @classmethod\n",
    "    def from_last(cls, ticker, period_type, period_num, timeframe, curr_date=dt.date.today()):\n",
    "        if period_type == 'd':\n",
    "            return cls.from_trade_days(ticker, period_num, timeframe, curr_date)\n",
    "        elif period_type == 'w':\n",
    "            return cls.from_weeks(ticker, period_num, timeframe, curr_date)\n",
    "        elif period_type == 'm':\n",
    "            return cls.from_months(ticker, period_num, timeframe, curr_date)\n",
    "        elif period_type == 'y':\n",
    "            return cls.from_years(ticker, period_num, timeframe, curr_date)\n",
    "        else:\n",
    "            return cls.from_trade_days(ticker, period_num, timeframe, curr_date)\n",
    "\n",
    "    def column(self, name):\n",
    "        return self.data[name]\n",
    "\n",
    "    def columns(self, column_names):\n",
    "        return self.data[column_names]\n",
    "\n",
    "    def candle_chart(self, without_slider=True):\n",
    "        fig = go.Figure(data=[go.Candlestick(x=self.data['begin'],\n",
    "                                             open=self.data['open'],\n",
    "                                             high=self.data['high'],\n",
    "                                             low=self.data['low'],\n",
    "                                             close=self.data['close'])])\n",
    "        if without_slider:\n",
    "            fig.update_layout(xaxis_rangeslider_visible=False)\n",
    "        fig.show()\n",
    "\n",
    "    def line_chart(self, column='close', with_slider=False):\n",
    "        fig = px.line(self.data, x='begin', y=column)\n",
    "        if with_slider:\n",
    "            fig.update_xaxes(rangeslider_visible=True)\n",
    "        fig.show()\n",
    "\n",
    "    def mean(self, column='close'):\n",
    "        return self.data[column].mean()\n",
    "\n",
    "    def var(self, column='close'):\n",
    "        return self.data[column].var()\n",
    "\n",
    "    def median(self, column='close'):\n",
    "        return self.data[column].median()\n",
    "\n",
    "    def std(self, column='close'):\n",
    "        return self.data[column].std()\n",
    "\n",
    "    def corr(self, columns=STD_COLUMNS):\n",
    "        if len(columns) == 2:\n",
    "            df_column1 = self.data[columns[0]]\n",
    "            df_column2 = self.data[columns[1]]\n",
    "            return df_column1.corr(df_column2)\n",
    "        elif len(columns) > 2:\n",
    "            df = self.data[list(columns)]\n",
    "            return df.corr()\n",
    "        else:\n",
    "            return None\n",
    "\n",
    "    def export_csv(self):\n",
    "        project_dir = os.path.dirname(os.path.dirname(__file__))\n",
    "        filename = \"out_\"+dt.datetime.now().strftime(\"%d.%m.%Y_%H.%M.%S\")+'.csv'\n",
    "        path = os.path.join(project_dir, 'data', 'export', filename)\n",
    "        self.data.to_csv(path, index=False)\n",
    "        return path\n",
    "\n",
    "    def export_xlsx(self):\n",
    "        project_dir = os.path.dirname(os.path.dirname(__file__))\n",
    "        filename = \"out_\"+dt.datetime.now().strftime(\"%d.%m.%Y_%H.%M.%S\")+'.xlsx'\n",
    "        path = os.path.join(project_dir, 'data', 'export', filename)\n",
    "        self.data.to_excel(path, index=False)\n",
    "        return path\n",
    "\n",
    "    def has_nulls(self):\n",
    "        return self.nulls_count() > 0\n",
    "\n",
    "    def nulls_count(self, by_columns=False):\n",
    "        if by_columns:\n",
    "            return dict(self.data.isna().sum())\n",
    "        else:\n",
    "            return self.data.isna().sum().sum()\n",
    "\n",
    "    def fill_na(self, method='bfill'):\n",
    "        self.data.fillna(method=method, inplace=True)\n",
    "\n",
    "    def drop_na(self):\n",
    "        self.data.dropna(inplace=True)\n",
    "\n",
    "    def is_empty(self):\n",
    "        return self.data.empty\n",
    "\n",
    "    @staticmethod\n",
    "    def add_delta(date: str, delta_duration, delta_mode='d', sub=False):\n",
    "        if delta_mode == 'd':\n",
    "            delta = dt.timedelta(days=delta_duration)\n",
    "        elif delta_mode == 'w':\n",
    "            delta = dt.timedelta(weeks=delta_duration)\n",
    "        elif delta_mode == 'm':\n",
    "            delta = relativedelta(months=delta_duration)\n",
    "        elif delta_mode == 'y':\n",
    "            delta = relativedelta(years=delta_duration)\n",
    "        else:\n",
    "            delta = dt.timedelta(days=delta_duration)\n",
    "        dt_date = dt.date.fromisoformat(date.split(' ')[0])\n",
    "        if not sub:\n",
    "            date = dt_date + delta\n",
    "        else:\n",
    "            date = dt_date - delta\n",
    "        return str(date)\n",
    "\n",
    "    @staticmethod\n",
    "    def transform_timeframe_for_api(timeframe):\n",
    "        if timeframe == 'd':\n",
    "            return 24\n",
    "        elif timeframe == 'w':\n",
    "            return 7\n",
    "        elif timeframe == 'm':\n",
    "            return 31\n",
    "        elif timeframe == 'h':\n",
    "            return 60\n",
    "        elif timeframe == '10min':\n",
    "            return 10\n",
    "        elif timeframe == '1min':\n",
    "            return 1\n",
    "        else:\n",
    "            return 24\n",
    "\n",
    "    def __str__(self):\n",
    "        return self.data.to_string()\n",
    "\n",
    "    def __len__(self):\n",
    "        return len(self.data['begin'])"
   ]
  },
  {
   "cell_type": "code",
   "execution_count": 19,
   "id": "42b3b325",
   "metadata": {},
   "outputs": [],
   "source": [
    "ts = FinTimeSeries('SBER', 24, '2021.05.01', '2021.06.30')"
   ]
  },
  {
   "cell_type": "code",
   "execution_count": null,
   "id": "e1ce0140",
   "metadata": {},
   "outputs": [],
   "source": [
    "# посмотрим, что получилось..."
   ]
  },
  {
   "cell_type": "code",
   "execution_count": 20,
   "id": "9e0f2d10",
   "metadata": {},
   "outputs": [
    {
     "data": {
      "application/vnd.plotly.v1+json": {
       "config": {
        "plotlyServerURL": "https://plot.ly"
       },
       "data": [
        {
         "close": [
          303.7,
          305.99,
          314.72,
          317.94,
          320.19,
          307.16,
          302.02,
          306.74,
          304.1,
          303.94,
          305.78,
          297,
          296.72,
          301.23,
          300.7,
          306.8,
          307.01,
          312.72,
          309.56,
          310.79,
          311.6,
          313.98,
          312.41,
          310.94,
          315.53,
          314.83,
          314.78,
          314.62,
          313,
          314.12,
          312.51,
          311.61,
          313.9,
          309.3,
          310.4,
          309.73,
          309.79,
          310,
          311.81,
          309.48,
          306.1,
          306.45
         ],
         "high": [
          304.23,
          306.03,
          314.98,
          319.16,
          320.19,
          309.48,
          309.24,
          306.86,
          308.24,
          305.24,
          306.62,
          304.88,
          298.37,
          302.98,
          304.75,
          307.4,
          309.5,
          313.9,
          314,
          312.6,
          314.17,
          314,
          315.71,
          313,
          316,
          316.18,
          315.9,
          316.58,
          315.08,
          314.87,
          315.6,
          314.54,
          315.42,
          313.82,
          310.4,
          311.17,
          312,
          311.2,
          312.5,
          312.06,
          309.23,
          306.91
         ],
         "low": [
          298.2,
          302.71,
          306.25,
          315.48,
          314.31,
          301,
          302,
          299.33,
          302.33,
          301.01,
          303.33,
          295.1,
          293,
          294.9,
          299.59,
          301.57,
          305.33,
          305.72,
          309.06,
          308.82,
          310.03,
          310.61,
          309.87,
          307.6,
          308.57,
          312.5,
          312.9,
          313.76,
          312.5,
          310.4,
          312.4,
          311.03,
          310.46,
          308.13,
          306.56,
          308.13,
          308.69,
          308.84,
          309.82,
          309.13,
          303.66,
          303.34
         ],
         "open": [
          298.7,
          304.01,
          306.29,
          316,
          318.26,
          303,
          307.39,
          302.11,
          308.2,
          303.5,
          305.01,
          304.38,
          297.94,
          296.85,
          302.02,
          301.77,
          307.84,
          306.39,
          313.3,
          309.3,
          312.6,
          311.6,
          314.81,
          313,
          310.03,
          315.29,
          315,
          314.87,
          314.88,
          313.48,
          314.14,
          312.5,
          311,
          312.9,
          308.47,
          310.79,
          310.45,
          309.8,
          310.58,
          311.77,
          308.7,
          306.19
         ],
         "type": "candlestick",
         "x": [
          "2021-05-04 00:00:00",
          "2021-05-05 00:00:00",
          "2021-05-06 00:00:00",
          "2021-05-07 00:00:00",
          "2021-05-10 00:00:00",
          "2021-05-11 00:00:00",
          "2021-05-12 00:00:00",
          "2021-05-13 00:00:00",
          "2021-05-14 00:00:00",
          "2021-05-17 00:00:00",
          "2021-05-18 00:00:00",
          "2021-05-19 00:00:00",
          "2021-05-20 00:00:00",
          "2021-05-21 00:00:00",
          "2021-05-24 00:00:00",
          "2021-05-25 00:00:00",
          "2021-05-26 00:00:00",
          "2021-05-27 00:00:00",
          "2021-05-28 00:00:00",
          "2021-05-31 00:00:00",
          "2021-06-01 00:00:00",
          "2021-06-02 00:00:00",
          "2021-06-03 00:00:00",
          "2021-06-04 00:00:00",
          "2021-06-07 00:00:00",
          "2021-06-08 00:00:00",
          "2021-06-09 00:00:00",
          "2021-06-10 00:00:00",
          "2021-06-11 00:00:00",
          "2021-06-14 00:00:00",
          "2021-06-15 00:00:00",
          "2021-06-16 00:00:00",
          "2021-06-17 00:00:00",
          "2021-06-18 00:00:00",
          "2021-06-21 00:00:00",
          "2021-06-22 00:00:00",
          "2021-06-23 00:00:00",
          "2021-06-24 00:00:00",
          "2021-06-25 00:00:00",
          "2021-06-28 00:00:00",
          "2021-06-29 00:00:00",
          "2021-06-30 00:00:00"
         ]
        }
       ],
       "layout": {
        "template": {
         "data": {
          "bar": [
           {
            "error_x": {
             "color": "#2a3f5f"
            },
            "error_y": {
             "color": "#2a3f5f"
            },
            "marker": {
             "line": {
              "color": "#E5ECF6",
              "width": 0.5
             },
             "pattern": {
              "fillmode": "overlay",
              "size": 10,
              "solidity": 0.2
             }
            },
            "type": "bar"
           }
          ],
          "barpolar": [
           {
            "marker": {
             "line": {
              "color": "#E5ECF6",
              "width": 0.5
             },
             "pattern": {
              "fillmode": "overlay",
              "size": 10,
              "solidity": 0.2
             }
            },
            "type": "barpolar"
           }
          ],
          "carpet": [
           {
            "aaxis": {
             "endlinecolor": "#2a3f5f",
             "gridcolor": "white",
             "linecolor": "white",
             "minorgridcolor": "white",
             "startlinecolor": "#2a3f5f"
            },
            "baxis": {
             "endlinecolor": "#2a3f5f",
             "gridcolor": "white",
             "linecolor": "white",
             "minorgridcolor": "white",
             "startlinecolor": "#2a3f5f"
            },
            "type": "carpet"
           }
          ],
          "choropleth": [
           {
            "colorbar": {
             "outlinewidth": 0,
             "ticks": ""
            },
            "type": "choropleth"
           }
          ],
          "contour": [
           {
            "colorbar": {
             "outlinewidth": 0,
             "ticks": ""
            },
            "colorscale": [
             [
              0,
              "#0d0887"
             ],
             [
              0.1111111111111111,
              "#46039f"
             ],
             [
              0.2222222222222222,
              "#7201a8"
             ],
             [
              0.3333333333333333,
              "#9c179e"
             ],
             [
              0.4444444444444444,
              "#bd3786"
             ],
             [
              0.5555555555555556,
              "#d8576b"
             ],
             [
              0.6666666666666666,
              "#ed7953"
             ],
             [
              0.7777777777777778,
              "#fb9f3a"
             ],
             [
              0.8888888888888888,
              "#fdca26"
             ],
             [
              1,
              "#f0f921"
             ]
            ],
            "type": "contour"
           }
          ],
          "contourcarpet": [
           {
            "colorbar": {
             "outlinewidth": 0,
             "ticks": ""
            },
            "type": "contourcarpet"
           }
          ],
          "heatmap": [
           {
            "colorbar": {
             "outlinewidth": 0,
             "ticks": ""
            },
            "colorscale": [
             [
              0,
              "#0d0887"
             ],
             [
              0.1111111111111111,
              "#46039f"
             ],
             [
              0.2222222222222222,
              "#7201a8"
             ],
             [
              0.3333333333333333,
              "#9c179e"
             ],
             [
              0.4444444444444444,
              "#bd3786"
             ],
             [
              0.5555555555555556,
              "#d8576b"
             ],
             [
              0.6666666666666666,
              "#ed7953"
             ],
             [
              0.7777777777777778,
              "#fb9f3a"
             ],
             [
              0.8888888888888888,
              "#fdca26"
             ],
             [
              1,
              "#f0f921"
             ]
            ],
            "type": "heatmap"
           }
          ],
          "heatmapgl": [
           {
            "colorbar": {
             "outlinewidth": 0,
             "ticks": ""
            },
            "colorscale": [
             [
              0,
              "#0d0887"
             ],
             [
              0.1111111111111111,
              "#46039f"
             ],
             [
              0.2222222222222222,
              "#7201a8"
             ],
             [
              0.3333333333333333,
              "#9c179e"
             ],
             [
              0.4444444444444444,
              "#bd3786"
             ],
             [
              0.5555555555555556,
              "#d8576b"
             ],
             [
              0.6666666666666666,
              "#ed7953"
             ],
             [
              0.7777777777777778,
              "#fb9f3a"
             ],
             [
              0.8888888888888888,
              "#fdca26"
             ],
             [
              1,
              "#f0f921"
             ]
            ],
            "type": "heatmapgl"
           }
          ],
          "histogram": [
           {
            "marker": {
             "pattern": {
              "fillmode": "overlay",
              "size": 10,
              "solidity": 0.2
             }
            },
            "type": "histogram"
           }
          ],
          "histogram2d": [
           {
            "colorbar": {
             "outlinewidth": 0,
             "ticks": ""
            },
            "colorscale": [
             [
              0,
              "#0d0887"
             ],
             [
              0.1111111111111111,
              "#46039f"
             ],
             [
              0.2222222222222222,
              "#7201a8"
             ],
             [
              0.3333333333333333,
              "#9c179e"
             ],
             [
              0.4444444444444444,
              "#bd3786"
             ],
             [
              0.5555555555555556,
              "#d8576b"
             ],
             [
              0.6666666666666666,
              "#ed7953"
             ],
             [
              0.7777777777777778,
              "#fb9f3a"
             ],
             [
              0.8888888888888888,
              "#fdca26"
             ],
             [
              1,
              "#f0f921"
             ]
            ],
            "type": "histogram2d"
           }
          ],
          "histogram2dcontour": [
           {
            "colorbar": {
             "outlinewidth": 0,
             "ticks": ""
            },
            "colorscale": [
             [
              0,
              "#0d0887"
             ],
             [
              0.1111111111111111,
              "#46039f"
             ],
             [
              0.2222222222222222,
              "#7201a8"
             ],
             [
              0.3333333333333333,
              "#9c179e"
             ],
             [
              0.4444444444444444,
              "#bd3786"
             ],
             [
              0.5555555555555556,
              "#d8576b"
             ],
             [
              0.6666666666666666,
              "#ed7953"
             ],
             [
              0.7777777777777778,
              "#fb9f3a"
             ],
             [
              0.8888888888888888,
              "#fdca26"
             ],
             [
              1,
              "#f0f921"
             ]
            ],
            "type": "histogram2dcontour"
           }
          ],
          "mesh3d": [
           {
            "colorbar": {
             "outlinewidth": 0,
             "ticks": ""
            },
            "type": "mesh3d"
           }
          ],
          "parcoords": [
           {
            "line": {
             "colorbar": {
              "outlinewidth": 0,
              "ticks": ""
             }
            },
            "type": "parcoords"
           }
          ],
          "pie": [
           {
            "automargin": true,
            "type": "pie"
           }
          ],
          "scatter": [
           {
            "fillpattern": {
             "fillmode": "overlay",
             "size": 10,
             "solidity": 0.2
            },
            "type": "scatter"
           }
          ],
          "scatter3d": [
           {
            "line": {
             "colorbar": {
              "outlinewidth": 0,
              "ticks": ""
             }
            },
            "marker": {
             "colorbar": {
              "outlinewidth": 0,
              "ticks": ""
             }
            },
            "type": "scatter3d"
           }
          ],
          "scattercarpet": [
           {
            "marker": {
             "colorbar": {
              "outlinewidth": 0,
              "ticks": ""
             }
            },
            "type": "scattercarpet"
           }
          ],
          "scattergeo": [
           {
            "marker": {
             "colorbar": {
              "outlinewidth": 0,
              "ticks": ""
             }
            },
            "type": "scattergeo"
           }
          ],
          "scattergl": [
           {
            "marker": {
             "colorbar": {
              "outlinewidth": 0,
              "ticks": ""
             }
            },
            "type": "scattergl"
           }
          ],
          "scattermapbox": [
           {
            "marker": {
             "colorbar": {
              "outlinewidth": 0,
              "ticks": ""
             }
            },
            "type": "scattermapbox"
           }
          ],
          "scatterpolar": [
           {
            "marker": {
             "colorbar": {
              "outlinewidth": 0,
              "ticks": ""
             }
            },
            "type": "scatterpolar"
           }
          ],
          "scatterpolargl": [
           {
            "marker": {
             "colorbar": {
              "outlinewidth": 0,
              "ticks": ""
             }
            },
            "type": "scatterpolargl"
           }
          ],
          "scatterternary": [
           {
            "marker": {
             "colorbar": {
              "outlinewidth": 0,
              "ticks": ""
             }
            },
            "type": "scatterternary"
           }
          ],
          "surface": [
           {
            "colorbar": {
             "outlinewidth": 0,
             "ticks": ""
            },
            "colorscale": [
             [
              0,
              "#0d0887"
             ],
             [
              0.1111111111111111,
              "#46039f"
             ],
             [
              0.2222222222222222,
              "#7201a8"
             ],
             [
              0.3333333333333333,
              "#9c179e"
             ],
             [
              0.4444444444444444,
              "#bd3786"
             ],
             [
              0.5555555555555556,
              "#d8576b"
             ],
             [
              0.6666666666666666,
              "#ed7953"
             ],
             [
              0.7777777777777778,
              "#fb9f3a"
             ],
             [
              0.8888888888888888,
              "#fdca26"
             ],
             [
              1,
              "#f0f921"
             ]
            ],
            "type": "surface"
           }
          ],
          "table": [
           {
            "cells": {
             "fill": {
              "color": "#EBF0F8"
             },
             "line": {
              "color": "white"
             }
            },
            "header": {
             "fill": {
              "color": "#C8D4E3"
             },
             "line": {
              "color": "white"
             }
            },
            "type": "table"
           }
          ]
         },
         "layout": {
          "annotationdefaults": {
           "arrowcolor": "#2a3f5f",
           "arrowhead": 0,
           "arrowwidth": 1
          },
          "autotypenumbers": "strict",
          "coloraxis": {
           "colorbar": {
            "outlinewidth": 0,
            "ticks": ""
           }
          },
          "colorscale": {
           "diverging": [
            [
             0,
             "#8e0152"
            ],
            [
             0.1,
             "#c51b7d"
            ],
            [
             0.2,
             "#de77ae"
            ],
            [
             0.3,
             "#f1b6da"
            ],
            [
             0.4,
             "#fde0ef"
            ],
            [
             0.5,
             "#f7f7f7"
            ],
            [
             0.6,
             "#e6f5d0"
            ],
            [
             0.7,
             "#b8e186"
            ],
            [
             0.8,
             "#7fbc41"
            ],
            [
             0.9,
             "#4d9221"
            ],
            [
             1,
             "#276419"
            ]
           ],
           "sequential": [
            [
             0,
             "#0d0887"
            ],
            [
             0.1111111111111111,
             "#46039f"
            ],
            [
             0.2222222222222222,
             "#7201a8"
            ],
            [
             0.3333333333333333,
             "#9c179e"
            ],
            [
             0.4444444444444444,
             "#bd3786"
            ],
            [
             0.5555555555555556,
             "#d8576b"
            ],
            [
             0.6666666666666666,
             "#ed7953"
            ],
            [
             0.7777777777777778,
             "#fb9f3a"
            ],
            [
             0.8888888888888888,
             "#fdca26"
            ],
            [
             1,
             "#f0f921"
            ]
           ],
           "sequentialminus": [
            [
             0,
             "#0d0887"
            ],
            [
             0.1111111111111111,
             "#46039f"
            ],
            [
             0.2222222222222222,
             "#7201a8"
            ],
            [
             0.3333333333333333,
             "#9c179e"
            ],
            [
             0.4444444444444444,
             "#bd3786"
            ],
            [
             0.5555555555555556,
             "#d8576b"
            ],
            [
             0.6666666666666666,
             "#ed7953"
            ],
            [
             0.7777777777777778,
             "#fb9f3a"
            ],
            [
             0.8888888888888888,
             "#fdca26"
            ],
            [
             1,
             "#f0f921"
            ]
           ]
          },
          "colorway": [
           "#636efa",
           "#EF553B",
           "#00cc96",
           "#ab63fa",
           "#FFA15A",
           "#19d3f3",
           "#FF6692",
           "#B6E880",
           "#FF97FF",
           "#FECB52"
          ],
          "font": {
           "color": "#2a3f5f"
          },
          "geo": {
           "bgcolor": "white",
           "lakecolor": "white",
           "landcolor": "#E5ECF6",
           "showlakes": true,
           "showland": true,
           "subunitcolor": "white"
          },
          "hoverlabel": {
           "align": "left"
          },
          "hovermode": "closest",
          "mapbox": {
           "style": "light"
          },
          "paper_bgcolor": "white",
          "plot_bgcolor": "#E5ECF6",
          "polar": {
           "angularaxis": {
            "gridcolor": "white",
            "linecolor": "white",
            "ticks": ""
           },
           "bgcolor": "#E5ECF6",
           "radialaxis": {
            "gridcolor": "white",
            "linecolor": "white",
            "ticks": ""
           }
          },
          "scene": {
           "xaxis": {
            "backgroundcolor": "#E5ECF6",
            "gridcolor": "white",
            "gridwidth": 2,
            "linecolor": "white",
            "showbackground": true,
            "ticks": "",
            "zerolinecolor": "white"
           },
           "yaxis": {
            "backgroundcolor": "#E5ECF6",
            "gridcolor": "white",
            "gridwidth": 2,
            "linecolor": "white",
            "showbackground": true,
            "ticks": "",
            "zerolinecolor": "white"
           },
           "zaxis": {
            "backgroundcolor": "#E5ECF6",
            "gridcolor": "white",
            "gridwidth": 2,
            "linecolor": "white",
            "showbackground": true,
            "ticks": "",
            "zerolinecolor": "white"
           }
          },
          "shapedefaults": {
           "line": {
            "color": "#2a3f5f"
           }
          },
          "ternary": {
           "aaxis": {
            "gridcolor": "white",
            "linecolor": "white",
            "ticks": ""
           },
           "baxis": {
            "gridcolor": "white",
            "linecolor": "white",
            "ticks": ""
           },
           "bgcolor": "#E5ECF6",
           "caxis": {
            "gridcolor": "white",
            "linecolor": "white",
            "ticks": ""
           }
          },
          "title": {
           "x": 0.05
          },
          "xaxis": {
           "automargin": true,
           "gridcolor": "white",
           "linecolor": "white",
           "ticks": "",
           "title": {
            "standoff": 15
           },
           "zerolinecolor": "white",
           "zerolinewidth": 2
          },
          "yaxis": {
           "automargin": true,
           "gridcolor": "white",
           "linecolor": "white",
           "ticks": "",
           "title": {
            "standoff": 15
           },
           "zerolinecolor": "white",
           "zerolinewidth": 2
          }
         }
        },
        "xaxis": {
         "rangeslider": {
          "visible": false
         }
        }
       }
      },
      "text/html": [
       "<div>                            <div id=\"03e169e1-b7e3-4311-a29b-01695e23ab50\" class=\"plotly-graph-div\" style=\"height:525px; width:100%;\"></div>            <script type=\"text/javascript\">                require([\"plotly\"], function(Plotly) {                    window.PLOTLYENV=window.PLOTLYENV || {};                                    if (document.getElementById(\"03e169e1-b7e3-4311-a29b-01695e23ab50\")) {                    Plotly.newPlot(                        \"03e169e1-b7e3-4311-a29b-01695e23ab50\",                        [{\"close\":[303.7,305.99,314.72,317.94,320.19,307.16,302.02,306.74,304.1,303.94,305.78,297.0,296.72,301.23,300.7,306.8,307.01,312.72,309.56,310.79,311.6,313.98,312.41,310.94,315.53,314.83,314.78,314.62,313.0,314.12,312.51,311.61,313.9,309.3,310.4,309.73,309.79,310.0,311.81,309.48,306.1,306.45],\"high\":[304.23,306.03,314.98,319.16,320.19,309.48,309.24,306.86,308.24,305.24,306.62,304.88,298.37,302.98,304.75,307.4,309.5,313.9,314.0,312.6,314.17,314.0,315.71,313.0,316.0,316.18,315.9,316.58,315.08,314.87,315.6,314.54,315.42,313.82,310.4,311.17,312.0,311.2,312.5,312.06,309.23,306.91],\"low\":[298.2,302.71,306.25,315.48,314.31,301.0,302.0,299.33,302.33,301.01,303.33,295.1,293.0,294.9,299.59,301.57,305.33,305.72,309.06,308.82,310.03,310.61,309.87,307.6,308.57,312.5,312.9,313.76,312.5,310.4,312.4,311.03,310.46,308.13,306.56,308.13,308.69,308.84,309.82,309.13,303.66,303.34],\"open\":[298.7,304.01,306.29,316.0,318.26,303.0,307.39,302.11,308.2,303.5,305.01,304.38,297.94,296.85,302.02,301.77,307.84,306.39,313.3,309.3,312.6,311.6,314.81,313.0,310.03,315.29,315.0,314.87,314.88,313.48,314.14,312.5,311.0,312.9,308.47,310.79,310.45,309.8,310.58,311.77,308.7,306.19],\"x\":[\"2021-05-04 00:00:00\",\"2021-05-05 00:00:00\",\"2021-05-06 00:00:00\",\"2021-05-07 00:00:00\",\"2021-05-10 00:00:00\",\"2021-05-11 00:00:00\",\"2021-05-12 00:00:00\",\"2021-05-13 00:00:00\",\"2021-05-14 00:00:00\",\"2021-05-17 00:00:00\",\"2021-05-18 00:00:00\",\"2021-05-19 00:00:00\",\"2021-05-20 00:00:00\",\"2021-05-21 00:00:00\",\"2021-05-24 00:00:00\",\"2021-05-25 00:00:00\",\"2021-05-26 00:00:00\",\"2021-05-27 00:00:00\",\"2021-05-28 00:00:00\",\"2021-05-31 00:00:00\",\"2021-06-01 00:00:00\",\"2021-06-02 00:00:00\",\"2021-06-03 00:00:00\",\"2021-06-04 00:00:00\",\"2021-06-07 00:00:00\",\"2021-06-08 00:00:00\",\"2021-06-09 00:00:00\",\"2021-06-10 00:00:00\",\"2021-06-11 00:00:00\",\"2021-06-14 00:00:00\",\"2021-06-15 00:00:00\",\"2021-06-16 00:00:00\",\"2021-06-17 00:00:00\",\"2021-06-18 00:00:00\",\"2021-06-21 00:00:00\",\"2021-06-22 00:00:00\",\"2021-06-23 00:00:00\",\"2021-06-24 00:00:00\",\"2021-06-25 00:00:00\",\"2021-06-28 00:00:00\",\"2021-06-29 00:00:00\",\"2021-06-30 00:00:00\"],\"type\":\"candlestick\"}],                        {\"template\":{\"data\":{\"histogram2dcontour\":[{\"type\":\"histogram2dcontour\",\"colorbar\":{\"outlinewidth\":0,\"ticks\":\"\"},\"colorscale\":[[0.0,\"#0d0887\"],[0.1111111111111111,\"#46039f\"],[0.2222222222222222,\"#7201a8\"],[0.3333333333333333,\"#9c179e\"],[0.4444444444444444,\"#bd3786\"],[0.5555555555555556,\"#d8576b\"],[0.6666666666666666,\"#ed7953\"],[0.7777777777777778,\"#fb9f3a\"],[0.8888888888888888,\"#fdca26\"],[1.0,\"#f0f921\"]]}],\"choropleth\":[{\"type\":\"choropleth\",\"colorbar\":{\"outlinewidth\":0,\"ticks\":\"\"}}],\"histogram2d\":[{\"type\":\"histogram2d\",\"colorbar\":{\"outlinewidth\":0,\"ticks\":\"\"},\"colorscale\":[[0.0,\"#0d0887\"],[0.1111111111111111,\"#46039f\"],[0.2222222222222222,\"#7201a8\"],[0.3333333333333333,\"#9c179e\"],[0.4444444444444444,\"#bd3786\"],[0.5555555555555556,\"#d8576b\"],[0.6666666666666666,\"#ed7953\"],[0.7777777777777778,\"#fb9f3a\"],[0.8888888888888888,\"#fdca26\"],[1.0,\"#f0f921\"]]}],\"heatmap\":[{\"type\":\"heatmap\",\"colorbar\":{\"outlinewidth\":0,\"ticks\":\"\"},\"colorscale\":[[0.0,\"#0d0887\"],[0.1111111111111111,\"#46039f\"],[0.2222222222222222,\"#7201a8\"],[0.3333333333333333,\"#9c179e\"],[0.4444444444444444,\"#bd3786\"],[0.5555555555555556,\"#d8576b\"],[0.6666666666666666,\"#ed7953\"],[0.7777777777777778,\"#fb9f3a\"],[0.8888888888888888,\"#fdca26\"],[1.0,\"#f0f921\"]]}],\"heatmapgl\":[{\"type\":\"heatmapgl\",\"colorbar\":{\"outlinewidth\":0,\"ticks\":\"\"},\"colorscale\":[[0.0,\"#0d0887\"],[0.1111111111111111,\"#46039f\"],[0.2222222222222222,\"#7201a8\"],[0.3333333333333333,\"#9c179e\"],[0.4444444444444444,\"#bd3786\"],[0.5555555555555556,\"#d8576b\"],[0.6666666666666666,\"#ed7953\"],[0.7777777777777778,\"#fb9f3a\"],[0.8888888888888888,\"#fdca26\"],[1.0,\"#f0f921\"]]}],\"contourcarpet\":[{\"type\":\"contourcarpet\",\"colorbar\":{\"outlinewidth\":0,\"ticks\":\"\"}}],\"contour\":[{\"type\":\"contour\",\"colorbar\":{\"outlinewidth\":0,\"ticks\":\"\"},\"colorscale\":[[0.0,\"#0d0887\"],[0.1111111111111111,\"#46039f\"],[0.2222222222222222,\"#7201a8\"],[0.3333333333333333,\"#9c179e\"],[0.4444444444444444,\"#bd3786\"],[0.5555555555555556,\"#d8576b\"],[0.6666666666666666,\"#ed7953\"],[0.7777777777777778,\"#fb9f3a\"],[0.8888888888888888,\"#fdca26\"],[1.0,\"#f0f921\"]]}],\"surface\":[{\"type\":\"surface\",\"colorbar\":{\"outlinewidth\":0,\"ticks\":\"\"},\"colorscale\":[[0.0,\"#0d0887\"],[0.1111111111111111,\"#46039f\"],[0.2222222222222222,\"#7201a8\"],[0.3333333333333333,\"#9c179e\"],[0.4444444444444444,\"#bd3786\"],[0.5555555555555556,\"#d8576b\"],[0.6666666666666666,\"#ed7953\"],[0.7777777777777778,\"#fb9f3a\"],[0.8888888888888888,\"#fdca26\"],[1.0,\"#f0f921\"]]}],\"mesh3d\":[{\"type\":\"mesh3d\",\"colorbar\":{\"outlinewidth\":0,\"ticks\":\"\"}}],\"scatter\":[{\"fillpattern\":{\"fillmode\":\"overlay\",\"size\":10,\"solidity\":0.2},\"type\":\"scatter\"}],\"parcoords\":[{\"type\":\"parcoords\",\"line\":{\"colorbar\":{\"outlinewidth\":0,\"ticks\":\"\"}}}],\"scatterpolargl\":[{\"type\":\"scatterpolargl\",\"marker\":{\"colorbar\":{\"outlinewidth\":0,\"ticks\":\"\"}}}],\"bar\":[{\"error_x\":{\"color\":\"#2a3f5f\"},\"error_y\":{\"color\":\"#2a3f5f\"},\"marker\":{\"line\":{\"color\":\"#E5ECF6\",\"width\":0.5},\"pattern\":{\"fillmode\":\"overlay\",\"size\":10,\"solidity\":0.2}},\"type\":\"bar\"}],\"scattergeo\":[{\"type\":\"scattergeo\",\"marker\":{\"colorbar\":{\"outlinewidth\":0,\"ticks\":\"\"}}}],\"scatterpolar\":[{\"type\":\"scatterpolar\",\"marker\":{\"colorbar\":{\"outlinewidth\":0,\"ticks\":\"\"}}}],\"histogram\":[{\"marker\":{\"pattern\":{\"fillmode\":\"overlay\",\"size\":10,\"solidity\":0.2}},\"type\":\"histogram\"}],\"scattergl\":[{\"type\":\"scattergl\",\"marker\":{\"colorbar\":{\"outlinewidth\":0,\"ticks\":\"\"}}}],\"scatter3d\":[{\"type\":\"scatter3d\",\"line\":{\"colorbar\":{\"outlinewidth\":0,\"ticks\":\"\"}},\"marker\":{\"colorbar\":{\"outlinewidth\":0,\"ticks\":\"\"}}}],\"scattermapbox\":[{\"type\":\"scattermapbox\",\"marker\":{\"colorbar\":{\"outlinewidth\":0,\"ticks\":\"\"}}}],\"scatterternary\":[{\"type\":\"scatterternary\",\"marker\":{\"colorbar\":{\"outlinewidth\":0,\"ticks\":\"\"}}}],\"scattercarpet\":[{\"type\":\"scattercarpet\",\"marker\":{\"colorbar\":{\"outlinewidth\":0,\"ticks\":\"\"}}}],\"carpet\":[{\"aaxis\":{\"endlinecolor\":\"#2a3f5f\",\"gridcolor\":\"white\",\"linecolor\":\"white\",\"minorgridcolor\":\"white\",\"startlinecolor\":\"#2a3f5f\"},\"baxis\":{\"endlinecolor\":\"#2a3f5f\",\"gridcolor\":\"white\",\"linecolor\":\"white\",\"minorgridcolor\":\"white\",\"startlinecolor\":\"#2a3f5f\"},\"type\":\"carpet\"}],\"table\":[{\"cells\":{\"fill\":{\"color\":\"#EBF0F8\"},\"line\":{\"color\":\"white\"}},\"header\":{\"fill\":{\"color\":\"#C8D4E3\"},\"line\":{\"color\":\"white\"}},\"type\":\"table\"}],\"barpolar\":[{\"marker\":{\"line\":{\"color\":\"#E5ECF6\",\"width\":0.5},\"pattern\":{\"fillmode\":\"overlay\",\"size\":10,\"solidity\":0.2}},\"type\":\"barpolar\"}],\"pie\":[{\"automargin\":true,\"type\":\"pie\"}]},\"layout\":{\"autotypenumbers\":\"strict\",\"colorway\":[\"#636efa\",\"#EF553B\",\"#00cc96\",\"#ab63fa\",\"#FFA15A\",\"#19d3f3\",\"#FF6692\",\"#B6E880\",\"#FF97FF\",\"#FECB52\"],\"font\":{\"color\":\"#2a3f5f\"},\"hovermode\":\"closest\",\"hoverlabel\":{\"align\":\"left\"},\"paper_bgcolor\":\"white\",\"plot_bgcolor\":\"#E5ECF6\",\"polar\":{\"bgcolor\":\"#E5ECF6\",\"angularaxis\":{\"gridcolor\":\"white\",\"linecolor\":\"white\",\"ticks\":\"\"},\"radialaxis\":{\"gridcolor\":\"white\",\"linecolor\":\"white\",\"ticks\":\"\"}},\"ternary\":{\"bgcolor\":\"#E5ECF6\",\"aaxis\":{\"gridcolor\":\"white\",\"linecolor\":\"white\",\"ticks\":\"\"},\"baxis\":{\"gridcolor\":\"white\",\"linecolor\":\"white\",\"ticks\":\"\"},\"caxis\":{\"gridcolor\":\"white\",\"linecolor\":\"white\",\"ticks\":\"\"}},\"coloraxis\":{\"colorbar\":{\"outlinewidth\":0,\"ticks\":\"\"}},\"colorscale\":{\"sequential\":[[0.0,\"#0d0887\"],[0.1111111111111111,\"#46039f\"],[0.2222222222222222,\"#7201a8\"],[0.3333333333333333,\"#9c179e\"],[0.4444444444444444,\"#bd3786\"],[0.5555555555555556,\"#d8576b\"],[0.6666666666666666,\"#ed7953\"],[0.7777777777777778,\"#fb9f3a\"],[0.8888888888888888,\"#fdca26\"],[1.0,\"#f0f921\"]],\"sequentialminus\":[[0.0,\"#0d0887\"],[0.1111111111111111,\"#46039f\"],[0.2222222222222222,\"#7201a8\"],[0.3333333333333333,\"#9c179e\"],[0.4444444444444444,\"#bd3786\"],[0.5555555555555556,\"#d8576b\"],[0.6666666666666666,\"#ed7953\"],[0.7777777777777778,\"#fb9f3a\"],[0.8888888888888888,\"#fdca26\"],[1.0,\"#f0f921\"]],\"diverging\":[[0,\"#8e0152\"],[0.1,\"#c51b7d\"],[0.2,\"#de77ae\"],[0.3,\"#f1b6da\"],[0.4,\"#fde0ef\"],[0.5,\"#f7f7f7\"],[0.6,\"#e6f5d0\"],[0.7,\"#b8e186\"],[0.8,\"#7fbc41\"],[0.9,\"#4d9221\"],[1,\"#276419\"]]},\"xaxis\":{\"gridcolor\":\"white\",\"linecolor\":\"white\",\"ticks\":\"\",\"title\":{\"standoff\":15},\"zerolinecolor\":\"white\",\"automargin\":true,\"zerolinewidth\":2},\"yaxis\":{\"gridcolor\":\"white\",\"linecolor\":\"white\",\"ticks\":\"\",\"title\":{\"standoff\":15},\"zerolinecolor\":\"white\",\"automargin\":true,\"zerolinewidth\":2},\"scene\":{\"xaxis\":{\"backgroundcolor\":\"#E5ECF6\",\"gridcolor\":\"white\",\"linecolor\":\"white\",\"showbackground\":true,\"ticks\":\"\",\"zerolinecolor\":\"white\",\"gridwidth\":2},\"yaxis\":{\"backgroundcolor\":\"#E5ECF6\",\"gridcolor\":\"white\",\"linecolor\":\"white\",\"showbackground\":true,\"ticks\":\"\",\"zerolinecolor\":\"white\",\"gridwidth\":2},\"zaxis\":{\"backgroundcolor\":\"#E5ECF6\",\"gridcolor\":\"white\",\"linecolor\":\"white\",\"showbackground\":true,\"ticks\":\"\",\"zerolinecolor\":\"white\",\"gridwidth\":2}},\"shapedefaults\":{\"line\":{\"color\":\"#2a3f5f\"}},\"annotationdefaults\":{\"arrowcolor\":\"#2a3f5f\",\"arrowhead\":0,\"arrowwidth\":1},\"geo\":{\"bgcolor\":\"white\",\"landcolor\":\"#E5ECF6\",\"subunitcolor\":\"white\",\"showland\":true,\"showlakes\":true,\"lakecolor\":\"white\"},\"title\":{\"x\":0.05},\"mapbox\":{\"style\":\"light\"}}},\"xaxis\":{\"rangeslider\":{\"visible\":false}}},                        {\"responsive\": true}                    ).then(function(){\n",
       "                            \n",
       "var gd = document.getElementById('03e169e1-b7e3-4311-a29b-01695e23ab50');\n",
       "var x = new MutationObserver(function (mutations, observer) {{\n",
       "        var display = window.getComputedStyle(gd).display;\n",
       "        if (!display || display === 'none') {{\n",
       "            console.log([gd, 'removed!']);\n",
       "            Plotly.purge(gd);\n",
       "            observer.disconnect();\n",
       "        }}\n",
       "}});\n",
       "\n",
       "// Listen for the removal of the full notebook cells\n",
       "var notebookContainer = gd.closest('#notebook-container');\n",
       "if (notebookContainer) {{\n",
       "    x.observe(notebookContainer, {childList: true});\n",
       "}}\n",
       "\n",
       "// Listen for the clearing of the current output cell\n",
       "var outputEl = gd.closest('.output');\n",
       "if (outputEl) {{\n",
       "    x.observe(outputEl, {childList: true});\n",
       "}}\n",
       "\n",
       "                        })                };                });            </script>        </div>"
      ]
     },
     "metadata": {},
     "output_type": "display_data"
    }
   ],
   "source": [
    "ts.candle_chart()"
   ]
  },
  {
   "cell_type": "code",
   "execution_count": null,
   "id": "76e8c45d",
   "metadata": {},
   "outputs": [],
   "source": []
  }
 ],
 "metadata": {
  "kernelspec": {
   "display_name": "Python 3",
   "language": "python",
   "name": "python3"
  },
  "language_info": {
   "codemirror_mode": {
    "name": "ipython",
    "version": 3
   },
   "file_extension": ".py",
   "mimetype": "text/x-python",
   "name": "python",
   "nbconvert_exporter": "python",
   "pygments_lexer": "ipython3",
   "version": "3.9.2"
  }
 },
 "nbformat": 4,
 "nbformat_minor": 5
}
